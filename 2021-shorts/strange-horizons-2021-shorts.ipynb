{
 "cells": [
  {
   "cell_type": "code",
   "execution_count": 1,
   "id": "13743679-0c8d-4514-af5b-b3372e0acf43",
   "metadata": {},
   "outputs": [],
   "source": [
    "from bs4 import BeautifulSoup\n",
    "import re\n",
    "import requests\n",
    "import time"
   ]
  },
  {
   "cell_type": "code",
   "execution_count": 2,
   "id": "72796634-a501-4896-956b-523d6d1e0f65",
   "metadata": {},
   "outputs": [],
   "source": [
    "url = 'http://strangehorizons.com/issue/2021/'"
   ]
  },
  {
   "cell_type": "code",
   "execution_count": 3,
   "id": "a82fc583-de6e-4009-a8c6-51fbc3de901b",
   "metadata": {},
   "outputs": [],
   "source": [
    "r = requests.get(url)\n",
    "soup = BeautifulSoup(r.text)"
   ]
  },
  {
   "cell_type": "code",
   "execution_count": 4,
   "id": "26f6745a-8e87-4d86-a0f5-654f075689eb",
   "metadata": {},
   "outputs": [
    {
     "data": {
      "text/plain": [
       "{('A Day in the Life of Anmar 20X1',\n",
       "  'http://strangehorizons.com/fiction/a-day-in-the-life-of-anmar-20x1/'),\n",
       " ('A Serpent For Each Year',\n",
       "  'http://strangehorizons.com/fiction/a-serpent-for-each-year/'),\n",
       " ('A Welling Up', 'http://strangehorizons.com/fiction/a-welling-up/'),\n",
       " ('According to Leibniz (maybe this isn’t what he meant); or, Rasharelle Little: Goddess of Postal Worker NBs',\n",
       "  'http://strangehorizons.com/fiction/according-to-leibniz-maybe-this-isnt-what-he-meant-or-rasharelle-little-goddess-of-postal-worker-nbs/'),\n",
       " ('All Us Ghosts', 'http://strangehorizons.com/fiction/all-us-ghosts/'),\n",
       " ('An Array of Worlds as a Rose Unfurling in Time',\n",
       "  'http://strangehorizons.com/fiction/an-array-of-worlds-as-a-rose-unfurling-in-time/'),\n",
       " ('An Exploration of Nichole Otieno’s Early Filmography (1232-1246)',\n",
       "  'http://strangehorizons.com/fiction/an-exploration-of-nichole-otienos-early-filmography-1232-1246/'),\n",
       " ('Balfour in the Desert',\n",
       "  'http://strangehorizons.com/fiction/balfour-in-the-desert/'),\n",
       " ('Bathymetry', 'http://strangehorizons.com/fiction/bathymetry/'),\n",
       " ('Bespoke Nightmares',\n",
       "  'http://strangehorizons.com/fiction/bespoke-nightmares/'),\n",
       " ('Blood We Cannot Wash Away',\n",
       "  'http://strangehorizons.com/fiction/blood-we-cannot-wash-away/'),\n",
       " ('Campfire Stories', 'http://strangehorizons.com/fiction/campfire-stories/'),\n",
       " ('Cocoon', 'http://strangehorizons.com/fiction/cocoon/'),\n",
       " ('Coiffeur Seven', 'http://strangehorizons.com/fiction/coiffeur-seven/'),\n",
       " ('Data Migration', 'http://strangehorizons.com/fiction/data-migration/'),\n",
       " ('Dragons', 'http://strangehorizons.com/fiction/dragons/'),\n",
       " ('First Times', 'http://strangehorizons.com/fiction/first-times/'),\n",
       " ('Haja Hoje', 'http://strangehorizons.com/fiction/haja-hoje/'),\n",
       " ('Harun', 'http://strangehorizons.com/fiction/harun/'),\n",
       " ('Heat From Fire', 'http://strangehorizons.com/fiction/heat-from-fire/'),\n",
       " ('Intimacies', 'http://strangehorizons.com/fiction/intimacies/'),\n",
       " ('Introduction: Strange Lusts',\n",
       "  'http://strangehorizons.com/fiction/introduction-strange-lusts/'),\n",
       " ('Little Lila', 'http://strangehorizons.com/fiction/little-lila/'),\n",
       " ('Motivation Augmentation',\n",
       "  'http://strangehorizons.com/fiction/motivation-augmentation/'),\n",
       " ('Mouth', 'http://strangehorizons.com/fiction/mouth/'),\n",
       " ('Native Country', 'http://strangehorizons.com/fiction/native-country/'),\n",
       " ('Night Shift', 'http://strangehorizons.com/fiction/night-shift/'),\n",
       " ('Ootheca', 'http://strangehorizons.com/fiction/ootheca/'),\n",
       " ('Pockets', 'http://strangehorizons.com/fiction/pockets/'),\n",
       " ('Reprint', 'http://strangehorizons.com/fiction/reprint/'),\n",
       " ('Sandrine', 'http://strangehorizons.com/fiction/sandrine/'),\n",
       " ('Scoria', 'http://strangehorizons.com/fiction/scoria/'),\n",
       " ('Secrets of the Kath',\n",
       "  'http://strangehorizons.com/fiction/secrets-of-the-kath/'),\n",
       " ('Si Shou', 'http://strangehorizons.com/fiction/si-shou/'),\n",
       " ('Strange Lusts', 'http://strangehorizons.com/fiction/strange-lusts/'),\n",
       " ('Surat Dari Hantu', 'http://strangehorizons.com/fiction/surat-dari-hantu/'),\n",
       " ('Temporal Slider', 'http://strangehorizons.com/fiction/temporal-slider/'),\n",
       " ('The Cataloguer of Deceit',\n",
       "  'http://strangehorizons.com/fiction/the-cataloguer-of-deceit/'),\n",
       " ('The Center of the Universe',\n",
       "  'http://strangehorizons.com/fiction/the-center-of-the-universe/'),\n",
       " ('The Chicken House',\n",
       "  'http://strangehorizons.com/fiction/the-chicken-house/'),\n",
       " ('The Constellations Are Unrecognizable Here',\n",
       "  'http://strangehorizons.com/fiction/the-constellations-are-unrecognizable-here/'),\n",
       " (\"The Demon Sage's Daughter\",\n",
       "  'http://strangehorizons.com/fiction/the-demon-sages-daughter/'),\n",
       " ('The Giant with No Heart in Her Body',\n",
       "  'http://strangehorizons.com/fiction/the-giant-with-no-heart-in-her-body/'),\n",
       " ('The Golden Carrot',\n",
       "  'http://strangehorizons.com/fiction/the-golden-carrot/'),\n",
       " ('The Loneliness of Former Constellations',\n",
       "  'http://strangehorizons.com/fiction/the-loneliness-of-former-constellations/'),\n",
       " ('The Thirteenth Knot',\n",
       "  'http://strangehorizons.com/fiction/the-thirteenth-knot/'),\n",
       " ('The karyōbinga sings to Jiro',\n",
       "  'http://strangehorizons.com/fiction/the-karyobinga-sings-to-jiro/'),\n",
       " ('Thread Count', 'http://strangehorizons.com/fiction/thread-count/'),\n",
       " ('Tower of Ivory, Tower of Horn',\n",
       "  'http://strangehorizons.com/fiction/tower-of-ivory-tower-of-horn/'),\n",
       " ('We Broke Nairobi', 'http://strangehorizons.com/fiction/we-broke-nairobi/'),\n",
       " ('What Floats in a Flotsam River',\n",
       "  'http://strangehorizons.com/fiction/what-floats-in-a-flotsam-river/'),\n",
       " ('Wills', 'http://strangehorizons.com/fiction/wills/'),\n",
       " ('Women Want Me, Fish Fear Me',\n",
       "  'http://strangehorizons.com/fiction/women-want-me-fish-fear-me/'),\n",
       " ('Yearning', 'http://strangehorizons.com/fiction/yearning/'),\n",
       " ('ارادات',\n",
       "  'http://strangehorizons.com/fiction/%d8%a7%d8%b1%d8%a7%d8%af%d8%a7%d8%aa/')}"
      ]
     },
     "execution_count": 4,
     "metadata": {},
     "output_type": "execute_result"
    }
   ],
   "source": [
    "stories = set()\n",
    "for a in soup.findAll('a'):\n",
    "    href = a.get('href')\n",
    "    title = a.text.strip()\n",
    "    if re.match(r\"http.+/fiction/.+/$\", href):\n",
    "        stories.add((title, href))\n",
    "stories"
   ]
  },
  {
   "cell_type": "code",
   "execution_count": null,
   "id": "c37661db-9647-4f39-be82-e377c2fbe5ac",
   "metadata": {},
   "outputs": [],
   "source": []
  },
  {
   "cell_type": "code",
   "execution_count": 5,
   "id": "6d618f58-4d89-42dd-8ca2-c6c71245289b",
   "metadata": {},
   "outputs": [],
   "source": [
    "with open('strange-horizons-2021-shorts.md', 'w') as f:\n",
    "    for title, href in sorted(list(stories), key=lambda el: el[0]):\n",
    "        f.write(f\"{title}: {href}\\n\")"
   ]
  },
  {
   "cell_type": "code",
   "execution_count": 6,
   "id": "2154e315-7a33-47a9-8707-caa88396f13d",
   "metadata": {},
   "outputs": [],
   "source": [
    "# for href,title in stories:\n",
    "#     r = requests.get(href)\n",
    "#     soup = BeautifulSoup(r.text)\n",
    "#     content = soup.find('div', attrs={'class':'content'}).text\n",
    "#     time.sleep(3)"
   ]
  }
 ],
 "metadata": {
  "kernelspec": {
   "display_name": "Python 3",
   "language": "python",
   "name": "python3"
  },
  "language_info": {
   "codemirror_mode": {
    "name": "ipython",
    "version": 3
   },
   "file_extension": ".py",
   "mimetype": "text/x-python",
   "name": "python",
   "nbconvert_exporter": "python",
   "pygments_lexer": "ipython3",
   "version": "3.8.8"
  }
 },
 "nbformat": 4,
 "nbformat_minor": 5
}
