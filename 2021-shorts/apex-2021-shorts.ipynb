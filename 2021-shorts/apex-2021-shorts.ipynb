{
 "cells": [
  {
   "cell_type": "code",
   "execution_count": 1,
   "id": "a13f54f9-92ee-4f9f-9794-952b983fa03d",
   "metadata": {},
   "outputs": [],
   "source": [
    "from bs4 import BeautifulSoup\n",
    "import re\n",
    "import requests\n",
    "import time"
   ]
  },
  {
   "cell_type": "code",
   "execution_count": 2,
   "id": "3ebb8675-ed1c-4a15-9ca0-2ea5ea27318b",
   "metadata": {},
   "outputs": [],
   "source": [
    "urls = [\n",
    "    'https://apex-magazine.com/category/short-fiction/',\n",
    "    'https://apex-magazine.com/category/short-fiction/page/2',\n",
    "    'https://apex-magazine.com/category/short-fiction/page/3',\n",
    "    'https://apex-magazine.com/category/short-fiction/page/4',\n",
    "    'https://apex-magazine.com/category/short-fiction/page/5',\n",
    "]"
   ]
  },
  {
   "cell_type": "code",
   "execution_count": 3,
   "id": "5e347040-908a-4529-951e-d23bc23e2afe",
   "metadata": {},
   "outputs": [],
   "source": [
    "soups = [BeautifulSoup(requests.get(url).text) for url in urls]"
   ]
  },
  {
   "cell_type": "code",
   "execution_count": 4,
   "id": "ff7673b6-d044-4690-ba38-124b9edec1ef",
   "metadata": {},
   "outputs": [
    {
     "data": {
      "text/plain": [
       "[('Francine (draft for the September lecture)',\n",
       "  'Maria Antònia Martí Escayol',\n",
       "  'https://apex-magazine.com/short-fiction/francine-draft-for-the-september-lecture/'),\n",
       " ('Aethra',\n",
       "  'Michalis Manolios',\n",
       "  'https://apex-magazine.com/short-fiction/aethra/'),\n",
       " ('Samsāra in a Teacup',\n",
       "  'Lavanya Lakshminarayan',\n",
       "  'https://apex-magazine.com/short-fiction/samsara-in-a-teacup/'),\n",
       " ('Dreamports',\n",
       "  'Tlotlo Tsamaase',\n",
       "  'https://apex-magazine.com/short-fiction/dreamports/'),\n",
       " ('The synchronism of touch',\n",
       "  'Gabriela Damián Miravete',\n",
       "  'https://apex-magazine.com/short-fiction/the-synchronism-of-touch/'),\n",
       " ('Godmother',\n",
       "  'Cheryl S. Ntumy',\n",
       "  'https://apex-magazine.com/short-fiction/godmother/'),\n",
       " ('Robin’s Last Song',\n",
       "  'Nina Munteanu',\n",
       "  'https://apex-magazine.com/short-fiction/robins-last-song/'),\n",
       " ('Soil of Our Home, Storm of Our Lives',\n",
       "  'Renan Bernardo',\n",
       "  'https://apex-magazine.com/short-fiction/soil-of-our-home-storm-of-our-lives/'),\n",
       " ('Thresher of Men',\n",
       "  'Michael Boatman',\n",
       "  'https://apex-magazine.com/short-fiction/thresher-of-men/'),\n",
       " ('Dogwood Stories',\n",
       "  'Nicole Givens Kurtz',\n",
       "  'https://apex-magazine.com/short-fiction/dogwood-stories/'),\n",
       " ('I Call Upon the Night as Witness',\n",
       "  'Zahra Mukhi',\n",
       "  'https://apex-magazine.com/short-fiction/i-call-upon-the-night-as-witness/'),\n",
       " ('Hank in the South Dakota Sun',\n",
       "  'Stephanie Kraner',\n",
       "  'https://apex-magazine.com/short-fiction/hank-in-the-south-dakota-sun/'),\n",
       " ('Whose Mortal Taste',\n",
       "  'E.K. Wagner',\n",
       "  'https://apex-magazine.com/short-fiction/whose-mortal-taste/'),\n",
       " ('In Haskins',\n",
       "  'Carson Winter',\n",
       "  'https://apex-magazine.com/short-fiction/in-haskins/'),\n",
       " ('This Shattered Vessel, Which Holds Only Grief',\n",
       "  'Izzy Wasserstein',\n",
       "  'https://apex-magazine.com/short-fiction/this-shattered-vessel-which-holds-only-grief/'),\n",
       " ('To Seek Himself Again',\n",
       "  'Marie Croke',\n",
       "  'https://apex-magazine.com/short-fiction/to-seek-himself-again/'),\n",
       " ('A Brief Lesson in Native American Astronomy',\n",
       "  'Rebecca Roanhorse',\n",
       "  'https://apex-magazine.com/short-fiction/a-brief-lesson-in-native-american-astronomy/'),\n",
       " ('An Incident at Hellpoint Prime',\n",
       "  'Norris Black',\n",
       "  'https://apex-magazine.com/short-fiction/an-incident-at-hellpoint-prime/'),\n",
       " ('When Evening Arrives',\n",
       "  'Tiffany Morris',\n",
       "  'https://apex-magazine.com/short-fiction/when-evening-arrives/'),\n",
       " ('Spirits of the Broken Lands',\n",
       "  'Kevin Wabaunsee',\n",
       "  'https://apex-magazine.com/short-fiction/spirits-of-the-broken-lands/'),\n",
       " ('Marked by Bears',\n",
       "  'Jessie Loyer',\n",
       "  'https://apex-magazine.com/short-fiction/marked-by-bears/'),\n",
       " ('Happy Trails',\n",
       "  'Theodore C. Van Alst, Jr.',\n",
       "  'https://apex-magazine.com/short-fiction/happy-trails/'),\n",
       " ('Security Breach at Sugar Pine Suites',\n",
       "  'Pamela Rentz',\n",
       "  'https://apex-magazine.com/short-fiction/security-breach-at-sugar-pine-suites/'),\n",
       " ('The Rat',\n",
       "  'Yohanca Delgado',\n",
       "  'https://apex-magazine.com/short-fiction/the-rat/'),\n",
       " ('Wake Up, I Miss You',\n",
       "  'Rachel Swirsky',\n",
       "  'https://apex-magazine.com/short-fiction/wake-up-i-miss-you/'),\n",
       " ('Gift for the Cutter Man',\n",
       "  'D. Thomas Minton',\n",
       "  'https://apex-magazine.com/short-fiction/gift-for-the-cutter-man/'),\n",
       " ('Candyland',\n",
       "  'Maggie Slater',\n",
       "  'https://apex-magazine.com/short-fiction/candyland/'),\n",
       " ('The Ever-Dreaming Verdict of Plagues',\n",
       "  'Jason Sanford',\n",
       "  'https://apex-magazine.com/short-fiction/the-ever-dreaming-verdict-of-plagues/'),\n",
       " ('Discontinuity',\n",
       "  'Jared Millet',\n",
       "  'https://apex-magazine.com/short-fiction/discontinuity/'),\n",
       " ('Next to Cleanliness',\n",
       "  'Rose Keating',\n",
       "  'https://apex-magazine.com/short-fiction/next-to-cleanliness/'),\n",
       " ('Deep Night',\n",
       "  'Tenea D. Johnson',\n",
       "  'https://apex-magazine.com/short-fiction/deep-night/'),\n",
       " ('COTTONMOUTH',\n",
       "  'Joelle Wellington',\n",
       "  'https://apex-magazine.com/short-fiction/cottonmouth/')]"
      ]
     },
     "execution_count": 4,
     "metadata": {},
     "output_type": "execute_result"
    }
   ],
   "source": [
    "stories = []\n",
    "for soup in soups:\n",
    "    for article in soup.findAll('article'):\n",
    "        date = article.find('span', attrs={'class':'published'}).text\n",
    "        title = article.find('h2')\n",
    "        author = article.find('a', attrs={'rel':'author'}).text\n",
    "        href = article.find('h2').find('a').get('href')\n",
    "        if '2021' in date:\n",
    "            stories.append((title.text, author, href))\n",
    "stories"
   ]
  },
  {
   "cell_type": "code",
   "execution_count": 5,
   "id": "495940f6-152d-426b-9318-582cae0e2c0e",
   "metadata": {},
   "outputs": [],
   "source": [
    "from output import write_list\n",
    "write_list('apex-2021-shorts.md', stories)"
   ]
  }
 ],
 "metadata": {
  "kernelspec": {
   "display_name": "Python 3",
   "language": "python",
   "name": "python3"
  },
  "language_info": {
   "codemirror_mode": {
    "name": "ipython",
    "version": 3
   },
   "file_extension": ".py",
   "mimetype": "text/x-python",
   "name": "python",
   "nbconvert_exporter": "python",
   "pygments_lexer": "ipython3",
   "version": "3.8.8"
  }
 },
 "nbformat": 4,
 "nbformat_minor": 5
}
