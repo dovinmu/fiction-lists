{
 "cells": [
  {
   "cell_type": "code",
   "execution_count": 22,
   "id": "b5805194-1e41-4589-ae7f-549fabdcae71",
   "metadata": {
    "execution": {
     "iopub.execute_input": "2023-03-06T19:11:40.347592Z",
     "iopub.status.busy": "2023-03-06T19:11:40.346808Z",
     "iopub.status.idle": "2023-03-06T19:11:40.369949Z",
     "shell.execute_reply": "2023-03-06T19:11:40.369359Z",
     "shell.execute_reply.started": "2023-03-06T19:11:40.347531Z"
    },
    "tags": []
   },
   "outputs": [],
   "source": [
    "from bs4 import BeautifulSoup\n",
    "import re\n",
    "import requests\n",
    "import os\n",
    "\n",
    "def apex():\n",
    "    urls = [ f'https://apex-magazine.com/category/short-fiction/page/{i}' for i in range(1,11) ]\n",
    "    soups = [BeautifulSoup(requests.get(url).text) for url in urls]\n",
    "    stories = []\n",
    "    for soup in soups:\n",
    "        for article in soup.findAll('article'):\n",
    "            date = article.find('span', attrs={'class':'elementor-post-date'}).text\n",
    "            author = article.find('span', attrs={'class':'elementor-post-author'}).text\n",
    "            title = article.find('h3').find('a').text\n",
    "            href = article.find('h3').find('a').get('href')\n",
    "            if '2022' in date:\n",
    "                stories.append((title, author, href))\n",
    "        # print(title, date)\n",
    "    return stories\n",
    "\n",
    "def bcs():\n",
    "    url = 'https://www.beneath-ceaseless-skies.com/issues/2022/'\n",
    "    soup = BeautifulSoup(requests.get(url).text)\n",
    "    stories = []\n",
    "    for issue in soup.findAll('div', attrs={'class':'post-body'}):\n",
    "        for title in issue.findAll('div', attrs={'class':'issue-story-title'}):\n",
    "            if title.previous_sibling.get('class') == ['issue-podcast-subheader']:\n",
    "                continue\n",
    "            author = title.next_sibling\n",
    "            href = title.find('a').get('href')\n",
    "            stories.append((title.find('a').text, author.text, href))\n",
    "\n",
    "    return stories\n",
    "\n",
    "def clarkesworld():\n",
    "    url = 'https://clarkesworldmagazine.com/prior/?y=2022'\n",
    "    r = requests.get(url)\n",
    "    soup = BeautifulSoup(r.text)\n",
    "    stories = set()\n",
    "    for table in soup.findAll('div', attrs={'class':'index-table'}):\n",
    "        # if table doesn't contain a p tag with the words fiction, keep going\n",
    "        section = table.find('p', attrs={'class': 'section'})\n",
    "        if section is None or section.text.strip().lower() != 'fiction':\n",
    "            continue\n",
    "        for storydiv in table.findAll('div'):\n",
    "    #         print(storydiv.text)\n",
    "            title = storydiv.find('p', attrs={'class':'story'})\n",
    "            author = storydiv.find('p', attrs={'class':'byline'})\n",
    "            if not title or not author:\n",
    "                continue\n",
    "            href = title.find('a').get('href')\n",
    "            title = title.text.strip()\n",
    "            author = author.text.replace('by', '').strip()\n",
    "            if \"Editor's Desk\" in title:\n",
    "                continue\n",
    "            if \"A Conversation with\" in title:\n",
    "                continue\n",
    "            if \"An Interview with\" in title:\n",
    "                continue\n",
    "            stories.add((title, author, href))\n",
    "    return list(stories)\n",
    "\n",
    "def metamorphosis():\n",
    "    urls = [\n",
    "        'https://magazine.metaphorosis.com/toc/2022/december-2022/',\n",
    "        'https://magazine.metaphorosis.com/toc/2022/november-2022/',\n",
    "        'https://magazine.metaphorosis.com/toc/2022/october-2022/',\n",
    "        'https://magazine.metaphorosis.com/toc/2022/september-2022/',\n",
    "        'https://magazine.metaphorosis.com/toc/2022/august-2022/',\n",
    "        'https://magazine.metaphorosis.com/toc/2022/july-2022/',\n",
    "        'https://magazine.metaphorosis.com/toc/2022/june-2022/',\n",
    "        'https://magazine.metaphorosis.com/toc/2022/may-2022/',\n",
    "        'https://magazine.metaphorosis.com/toc/2022/april-2022/',\n",
    "        'https://magazine.metaphorosis.com/toc/2022/march-2022/',\n",
    "        'https://magazine.metaphorosis.com/toc/2022/february-2022/',\n",
    "        'https://magazine.metaphorosis.com/toc/2022/january-2022/'\n",
    "    ]\n",
    "    soups = [BeautifulSoup(requests.get(url).text) for url in urls]\n",
    "    stories = []\n",
    "    for soup in soups:\n",
    "        for article in soup.find('div', {'class': 'entry-content'}).findAll('li', {'class': None}):\n",
    "            title, author = article.text.split('—')\n",
    "            href = article.find('a').get('href')\n",
    "            stories.append((title.strip(), author.strip(), href))\n",
    "    return stories\n",
    "\n",
    "\n",
    "def nature():\n",
    "    url = 'https://www.nature.com/nature/articles?type=futures&year=2022'\n",
    "    soup = BeautifulSoup(requests.get(url).text)\n",
    "    stories = []\n",
    "    for article in soup.findAll('article'):\n",
    "        title = article.find('h3')\n",
    "        author = article.find('span').text\n",
    "        href = title.find('a').get('href')\n",
    "        stories.append((title.text.strip(), author, 'https://nature.com'+href))\n",
    "    return stories\n",
    "\n",
    "def strange_horizons():\n",
    "    url = 'http://strangehorizons.com/issue/2022/'\n",
    "    r = requests.get(url)\n",
    "    soup = BeautifulSoup(r.text)\n",
    "    stories = set()\n",
    "    for article in soup.findAll('div', attrs={'class':'article'}):\n",
    "        title = article.find('div', attrs={'class':'title'})\n",
    "        try:\n",
    "            href = title.find('a').get('href')\n",
    "        except:\n",
    "            print(f'{title.text} has no href, skipping')\n",
    "            continue\n",
    "        author = article.find('div', attrs={'class':'author'}).text.replace('By:', '').strip()\n",
    "        if re.match(r\"http.+/fiction/.+/$\", href):\n",
    "            stories.add((title.text.strip(), author, href))\n",
    "    return stories\n",
    "\n",
    "def tor():\n",
    "    with open('All Fiction Tor.com pg1 2023-3-8.html') as f:\n",
    "        soup1 = BeautifulSoup(f.read())\n",
    "    with open('All Fiction Tor.com pg2 2023-3-8.html') as f:\n",
    "        soup2 = BeautifulSoup(f.read())    \n",
    "    with open('All Fiction Tor.com pg3 2023-3-8.html') as f:\n",
    "        soup3 = BeautifulSoup(f.read())\n",
    "    stories = set()\n",
    "    for article in soup1.findAll('article') + soup2.findAll('article') + soup3.findAll('article'):\n",
    "        # if table doesn't contain a p tag with the words fiction, keep going\n",
    "        title = article.find('h2')\n",
    "        date = article.find('div', attrs={'class':'entry-date'}).text\n",
    "        author = article.find('a', attrs={'class':'entry-author'}).text\n",
    "        href = title.find('a').get('href')\n",
    "        if '2022' in date:\n",
    "    #         print(title.text,date)\n",
    "            stories.add((title.text.strip(), author, href))\n",
    "    return stories\n",
    "\n",
    "def uncanny():\n",
    "    urls = [\n",
    "        'https://uncannymagazine.com/issues/uncanny-magazine-issue-forty-four/',\n",
    "        'https://uncannymagazine.com/issues/uncanny-magazine-issue-forty-five/',\n",
    "        'https://uncannymagazine.com/issues/uncanny-magazine-issue-forty-six/',\n",
    "        'https://uncannymagazine.com/issues/uncanny-magazine-issue-forty-seven/',\n",
    "        'https://uncannymagazine.com/issues/uncanny-magazine-issue-forty-eight/',\n",
    "        'https://uncannymagazine.com/issues/uncanny-magazine-issue-forty-nine/',\n",
    "    ]\n",
    "    soups = [BeautifulSoup(requests.get(url).text) for url in urls]\n",
    "    stories = []\n",
    "    for soup in soups:\n",
    "        for p in soup.find('div', attrs={'class':'more_fiction'}).findAll('p'):\n",
    "            try:\n",
    "                title, author = p.findAll('a')\n",
    "                author = author.text\n",
    "            except:\n",
    "                title, author, translator = p.findAll('a')\n",
    "                author = f'{author.text} (translated by {translator.text})'\n",
    "            stories.append((title.text, author, title.get('href')))\n",
    "    return stories"
   ]
  },
  {
   "cell_type": "code",
   "execution_count": 23,
   "id": "5e7037f6",
   "metadata": {},
   "outputs": [
    {
     "name": "stdout",
     "output_type": "stream",
     "text": [
      "<li><a href=\"https://magazine.metaphorosis.com/story/2022/the-dragons-due-christopher-warden/\">The Dragon’s Due</a> — Christopher Warden</li>\n",
      "<li><a href=\"https://magazine.metaphorosis.com/story/2022/through-the-middle-j-b-kish/\">Through the Middle</a> — J.B. Kish</li>\n",
      "<li><a href=\"https://magazine.metaphorosis.com/story/2022/love-death-and-the-electric-soul-alexandra-peel/\">Love, Death, and the Electric Soul</a> — Alexandra Peel</li>\n",
      "<li><a href=\"https://magazine.metaphorosis.com/story/2022/snowman-han-whiteoak/\">Snowman</a> — Han Whiteoak</li>\n",
      "<li><a href=\"https://magazine.metaphorosis.com/story/2022/infinite-possibilities-iv-michael-gardner/\">Infinite Possibilities IV</a> — Michael Gardner</li>\n"
     ]
    }
   ],
   "source": [
    "mm_stories = metamorphosis()"
   ]
  },
  {
   "cell_type": "code",
   "execution_count": 2,
   "id": "b2a67ff6-8d32-4df6-9106-c46afb5a5b02",
   "metadata": {
    "execution": {
     "iopub.execute_input": "2023-03-06T18:58:57.868241Z",
     "iopub.status.busy": "2023-03-06T18:58:57.867679Z",
     "iopub.status.idle": "2023-03-06T18:59:07.587526Z",
     "shell.execute_reply": "2023-03-06T18:59:07.587097Z",
     "shell.execute_reply.started": "2023-03-06T18:58:57.868209Z"
    },
    "tags": []
   },
   "outputs": [],
   "source": [
    "apex_stories = apex()"
   ]
  },
  {
   "cell_type": "code",
   "execution_count": 3,
   "id": "a773faf2-2c80-4971-a523-41bcdf4b7476",
   "metadata": {
    "execution": {
     "iopub.execute_input": "2023-03-06T15:54:35.090823Z",
     "iopub.status.busy": "2023-03-06T15:54:35.090064Z",
     "iopub.status.idle": "2023-03-06T15:54:36.751926Z",
     "shell.execute_reply": "2023-03-06T15:54:36.751389Z",
     "shell.execute_reply.started": "2023-03-06T15:54:35.090768Z"
    },
    "tags": []
   },
   "outputs": [],
   "source": [
    "bcs_stories = bcs()"
   ]
  },
  {
   "cell_type": "code",
   "execution_count": 4,
   "id": "94feba0d-e91f-46bd-880b-15cfb7732707",
   "metadata": {
    "execution": {
     "iopub.execute_input": "2023-03-06T15:55:54.426397Z",
     "iopub.status.busy": "2023-03-06T15:55:54.425811Z",
     "iopub.status.idle": "2023-03-06T15:55:55.349660Z",
     "shell.execute_reply": "2023-03-06T15:55:55.349348Z",
     "shell.execute_reply.started": "2023-03-06T15:55:54.426362Z"
    },
    "tags": []
   },
   "outputs": [],
   "source": [
    "cw_stories = clarkesworld()"
   ]
  },
  {
   "cell_type": "code",
   "execution_count": 5,
   "id": "8f271b1d-c4ba-4be0-bbef-a879960ab5c2",
   "metadata": {
    "execution": {
     "iopub.execute_input": "2023-03-06T16:04:29.112978Z",
     "iopub.status.busy": "2023-03-06T16:04:29.112347Z",
     "iopub.status.idle": "2023-03-06T16:04:30.588954Z",
     "shell.execute_reply": "2023-03-06T16:04:30.588582Z",
     "shell.execute_reply.started": "2023-03-06T16:04:29.112940Z"
    }
   },
   "outputs": [],
   "source": [
    "na_stories = nature()"
   ]
  },
  {
   "cell_type": "code",
   "execution_count": 6,
   "id": "74c865f0-8c4a-4253-8cfc-5c9e14455c45",
   "metadata": {
    "execution": {
     "iopub.execute_input": "2023-03-06T19:04:53.461371Z",
     "iopub.status.busy": "2023-03-06T19:04:53.460416Z",
     "iopub.status.idle": "2023-03-06T19:04:54.001121Z",
     "shell.execute_reply": "2023-03-06T19:04:54.000798Z",
     "shell.execute_reply.started": "2023-03-06T19:04:53.461313Z"
    },
    "tags": []
   },
   "outputs": [
    {
     "name": "stdout",
     "output_type": "stream",
     "text": [
      "Podcast: 6 June Poetry  has no href, skipping\n",
      "Podcast: 9 May Poetry  has no href, skipping\n",
      "The Author and the Critic III: Alison Rumfitt and Marisa Mercurio  has no href, skipping\n",
      "Podcast: Broken Blue  has no href, skipping\n"
     ]
    }
   ],
   "source": [
    "sh_stories = strange_horizons()"
   ]
  },
  {
   "cell_type": "code",
   "execution_count": 11,
   "id": "c7bd05ba",
   "metadata": {},
   "outputs": [],
   "source": [
    "tor_stories = tor()"
   ]
  },
  {
   "cell_type": "code",
   "execution_count": 7,
   "id": "5249b25c-a08f-48a2-9d66-b8ba141f961c",
   "metadata": {
    "execution": {
     "iopub.execute_input": "2023-03-06T19:08:22.598265Z",
     "iopub.status.busy": "2023-03-06T19:08:22.597442Z",
     "iopub.status.idle": "2023-03-06T19:08:33.096134Z",
     "shell.execute_reply": "2023-03-06T19:08:33.095442Z",
     "shell.execute_reply.started": "2023-03-06T19:08:22.598205Z"
    },
    "tags": []
   },
   "outputs": [],
   "source": [
    "un_stories = uncanny()"
   ]
  },
  {
   "cell_type": "code",
   "execution_count": 8,
   "id": "8a1cbb28",
   "metadata": {},
   "outputs": [],
   "source": [
    "def write_list(fname, stories):\n",
    "    with open(fname, 'w') as f:\n",
    "        for title, author, href in sorted(list(stories), key=lambda el: el[0]):\n",
    "            f.write(f\" - [{title}]({href}) by {author}\\n\")"
   ]
  },
  {
   "cell_type": "code",
   "execution_count": 15,
   "id": "8a8544e3",
   "metadata": {},
   "outputs": [],
   "source": [
    "for name,stories in {\n",
    "    'apex': apex_stories, \n",
    "    'beneath-ceaseless-skies': bcs_stories,\n",
    "    'clarkesworld': cw_stories,\n",
    "    'nature-futures': na_stories,\n",
    "    'strange-horizons': sh_stories,\n",
    "    'tor': tor_stories,\n",
    "    'uncanny': un_stories\n",
    "}.items():\n",
    "    write_list(name+'.md', stories)"
   ]
  },
  {
   "cell_type": "code",
   "execution_count": 14,
   "id": "1220d839",
   "metadata": {},
   "outputs": [
    {
     "name": "stdout",
     "output_type": "stream",
     "text": [
      "wrote to 2022-shorts.md\n"
     ]
    }
   ],
   "source": [
    "output = ''\n",
    "fname_match = '2022-shorts'\n",
    "for fname in sorted(list(os.listdir('.'))):\n",
    "    if fname[-3:] == '.md' and fname_match in fname:\n",
    "        publication = fname.replace(fname_match, '').replace('.md', '').replace('-', ' ').title()\n",
    "        output += f\"\\n## {publication} \\n\"\n",
    "        with open(fname) as f:\n",
    "            output += f.read() + \"\\n\"\n",
    "\n",
    "with open(fname_match+'.md', 'w') as f:\n",
    "    f.write(output)\n",
    "print(\"wrote to\", fname_match+'.md')"
   ]
  },
  {
   "cell_type": "code",
   "execution_count": null,
   "id": "592d92af",
   "metadata": {},
   "outputs": [],
   "source": []
  }
 ],
 "metadata": {
  "kernelspec": {
   "display_name": "Python 3 (ipykernel)",
   "language": "python",
   "name": "python3"
  },
  "language_info": {
   "codemirror_mode": {
    "name": "ipython",
    "version": 3
   },
   "file_extension": ".py",
   "mimetype": "text/x-python",
   "name": "python",
   "nbconvert_exporter": "python",
   "pygments_lexer": "ipython3",
   "version": "3.9.13"
  }
 },
 "nbformat": 4,
 "nbformat_minor": 5
}
