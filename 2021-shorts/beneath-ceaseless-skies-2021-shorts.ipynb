{
 "cells": [
  {
   "cell_type": "code",
   "execution_count": 1,
   "id": "a13f54f9-92ee-4f9f-9794-952b983fa03d",
   "metadata": {},
   "outputs": [],
   "source": [
    "from bs4 import BeautifulSoup\n",
    "import re\n",
    "import requests\n",
    "import time"
   ]
  },
  {
   "cell_type": "code",
   "execution_count": 2,
   "id": "3ebb8675-ed1c-4a15-9ca0-2ea5ea27318b",
   "metadata": {},
   "outputs": [],
   "source": [
    "url = 'https://www.beneath-ceaseless-skies.com/issues/2021/'"
   ]
  },
  {
   "cell_type": "code",
   "execution_count": 3,
   "id": "5e347040-908a-4529-951e-d23bc23e2afe",
   "metadata": {},
   "outputs": [],
   "source": [
    "soup = BeautifulSoup(requests.get(url).text)"
   ]
  },
  {
   "cell_type": "code",
   "execution_count": 4,
   "id": "ff7673b6-d044-4690-ba38-124b9edec1ef",
   "metadata": {},
   "outputs": [
    {
     "data": {
      "text/plain": [
       "[('Letters from a Travelling Man',\n",
       "  'W.J. Tattersdill',\n",
       "  'https://www.beneath-ceaseless-skies.com/stories/letters-from-a-travelling-man/'),\n",
       " ('The Age of Swirling Mist',\n",
       "  'J.F. Gleeson',\n",
       "  'https://www.beneath-ceaseless-skies.com/stories/the-age-of-swirling-mist/'),\n",
       " ('The Fox’s Daughter',\n",
       "  'Richard Parks',\n",
       "  'https://www.beneath-ceaseless-skies.com/stories/the-foxs-daughter/'),\n",
       " ('Fall to Rise',\n",
       "  'David Tallerman',\n",
       "  'https://www.beneath-ceaseless-skies.com/stories/fall-to-rise/'),\n",
       " ('Deep in the Gardener’s Barrow',\n",
       "  'Tobi Ogundiran',\n",
       "  'https://www.beneath-ceaseless-skies.com/stories/deep-in-the-gardeners-barrow/'),\n",
       " ('The Source',\n",
       "  'Mattias Carosella',\n",
       "  'https://www.beneath-ceaseless-skies.com/stories/the-source/'),\n",
       " ('No Say',\n",
       "  'Jonathan Louis Duckworth',\n",
       "  'https://www.beneath-ceaseless-skies.com/stories/no-say/'),\n",
       " ('The Black Rainbow',\n",
       "  'Denzel Xavier Scott',\n",
       "  'https://www.beneath-ceaseless-skies.com/stories/the-black-rainbow/'),\n",
       " ('A Manslaughter of Crows',\n",
       "  'Chris Willrich',\n",
       "  'https://www.beneath-ceaseless-skies.com/stories/a-manslaughter-of-crows/'),\n",
       " ('The Last Days of Summer in the City of Olives',\n",
       "  'Filip Hajdar Drnovšek Zorko',\n",
       "  'https://www.beneath-ceaseless-skies.com/stories/the-last-days-of-summer-in-the-city-of-olives/'),\n",
       " ('The Burning Girl',\n",
       "  'Carrie Vaughn',\n",
       "  'https://www.beneath-ceaseless-skies.com/stories/the-burning-girl/'),\n",
       " ('Stronger',\n",
       "  'K.J. Parker',\n",
       "  'https://www.beneath-ceaseless-skies.com/stories/stronger/'),\n",
       " ('Nemesis and the Sorcerer',\n",
       "  'R.K. Duncan',\n",
       "  'https://www.beneath-ceaseless-skies.com/stories/nemesis-and-the-sorcerer/'),\n",
       " ('Song So Pure and Cruel',\n",
       "  'March McCarron',\n",
       "  'https://www.beneath-ceaseless-skies.com/stories/song-so-pure-and-cruel/'),\n",
       " ('In Case You’re the One to Devour a Star',\n",
       "  'Tamara Jerée',\n",
       "  'https://www.beneath-ceaseless-skies.com/stories/in-case-youre-the-one-to-devour-a-star/'),\n",
       " ('A Bird in the Window',\n",
       "  'Kate Francia',\n",
       "  'https://www.beneath-ceaseless-skies.com/stories/a-bird-in-the-window/'),\n",
       " ('The Shape of Wings and Feathers',\n",
       "  'Jenny Rae Rappaport',\n",
       "  'https://www.beneath-ceaseless-skies.com/stories/the-shape-of-wings-and-feathers/'),\n",
       " ('Those Virtues, Those Poisons',\n",
       "  'Martin Cahill',\n",
       "  'https://www.beneath-ceaseless-skies.com/stories/those-virtues-those-poisons/'),\n",
       " ('For Rain Is To Wet and Fire To Burn',\n",
       "  'Robert Minto',\n",
       "  'https://www.beneath-ceaseless-skies.com/stories/for-rain-is-to-wet-and-fire-to-burn/'),\n",
       " ('The Bonfire of the Unknown and the Foreign',\n",
       "  'Abhijeet Sathe',\n",
       "  'https://www.beneath-ceaseless-skies.com/stories/the-bonfire-of-the-unknown-and-the-foreign/')]"
      ]
     },
     "execution_count": 4,
     "metadata": {},
     "output_type": "execute_result"
    }
   ],
   "source": [
    "stories = []\n",
    "for issue in soup.findAll('div', attrs={'class':'post-body'}):\n",
    "    for title in issue.findAll('div', attrs={'class':'issue-story-title'}):\n",
    "        if title.previous_sibling.get('class') == ['issue-podcast-subheader']:\n",
    "            continue\n",
    "        author = title.next_sibling\n",
    "        href = title.find('a').get('href')\n",
    "        stories.append((title.find('a').text, author.text, href))\n",
    "        \n",
    "stories"
   ]
  },
  {
   "cell_type": "code",
   "execution_count": 5,
   "id": "495940f6-152d-426b-9318-582cae0e2c0e",
   "metadata": {},
   "outputs": [],
   "source": [
    "with open('beneath-ceaseless-skies-2021-shorts.md', 'w') as f:\n",
    "    for title, author, href in sorted(list(stories), key=lambda el: el[0]):\n",
    "        f.write(f\"{title} by {author}: {href}\\n\")"
   ]
  }
 ],
 "metadata": {
  "kernelspec": {
   "display_name": "Python 3",
   "language": "python",
   "name": "python3"
  },
  "language_info": {
   "codemirror_mode": {
    "name": "ipython",
    "version": 3
   },
   "file_extension": ".py",
   "mimetype": "text/x-python",
   "name": "python",
   "nbconvert_exporter": "python",
   "pygments_lexer": "ipython3",
   "version": "3.8.8"
  }
 },
 "nbformat": 4,
 "nbformat_minor": 5
}
