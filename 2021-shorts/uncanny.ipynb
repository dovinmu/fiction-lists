{
 "cells": [
  {
   "cell_type": "code",
   "execution_count": 1,
   "id": "a13f54f9-92ee-4f9f-9794-952b983fa03d",
   "metadata": {},
   "outputs": [],
   "source": [
    "from bs4 import BeautifulSoup\n",
    "import re\n",
    "import requests\n",
    "import time"
   ]
  },
  {
   "cell_type": "code",
   "execution_count": 2,
   "id": "3ebb8675-ed1c-4a15-9ca0-2ea5ea27318b",
   "metadata": {},
   "outputs": [],
   "source": [
    "urls = [\n",
    "    'https://uncannymagazine.com/issues/uncanny-magazine-issue-thirty-eight/', \n",
    "    'https://uncannymagazine.com/issues/uncanny-magazine-issue-thirty-nine/',\n",
    "    'https://uncannymagazine.com/issues/uncanny-magazine-issue-forty/',\n",
    "    'https://uncannymagazine.com/issues/uncanny-magazine-issue-forty-one/',\n",
    "    'https://uncannymagazine.com/issues/uncanny-magazine-issue-forty-two/',\n",
    "    'https://uncannymagazine.com/issues/uncanny-magazine-issue-forty-three/',\n",
    "]"
   ]
  },
  {
   "cell_type": "code",
   "execution_count": 3,
   "id": "5e347040-908a-4529-951e-d23bc23e2afe",
   "metadata": {},
   "outputs": [],
   "source": [
    "soups = [BeautifulSoup(requests.get(url).text) for url in urls]"
   ]
  },
  {
   "cell_type": "code",
   "execution_count": 4,
   "id": "ff7673b6-d044-4690-ba38-124b9edec1ef",
   "metadata": {},
   "outputs": [
    {
     "data": {
      "text/plain": [
       "[('Tyrannosaurus Hex by Sam J. Miller',\n",
       "  'https://uncannymagazine.com/article/tyrannosaurus-hex/'),\n",
       " ('A House Full of Voices Is Never Empty by Miyuki Jane Pinckard',\n",
       "  'https://uncannymagazine.com/article/a-house-full-of-voices-is-never-empty/'),\n",
       " ('Pathfinding! by Nicole Kornher-Stace',\n",
       "  'https://uncannymagazine.com/article/pathfinding/'),\n",
       " ('In That Place She Grows a Garden by Del Sandeen',\n",
       "  'https://uncannymagazine.com/article/in-that-place-she-grows-a-garden/'),\n",
       " ('Beyond the Doll Forest by Marissa Lingen',\n",
       "  'https://uncannymagazine.com/article/beyond-the-doll-forest/'),\n",
       " ('Femme and Sundance by Christopher Caldwell',\n",
       "  'https://uncannymagazine.com/article/femme-and-sundance/'),\n",
       " ('Distribution by Paul Cornell',\n",
       "  'https://uncannymagazine.com/article/distribution/'),\n",
       " ('The Sin of America by Catherynne M. Valente',\n",
       "  'https://uncannymagazine.com/article/the-sin-of-america/'),\n",
       " ('The Perils of a Hologram Heart by Dominica Phetteplace',\n",
       "  'https://uncannymagazine.com/article/the-perils-of-a-hologram-heart/'),\n",
       " ('Colors of the Immortal Palette by Caroline M. Yoachim',\n",
       "  'https://uncannymagazine.com/article/colors-of-the-immortal-palette/'),\n",
       " ('Eighteen Days of Barbareek by Rati Mehrotra',\n",
       "  'https://uncannymagazine.com/article/eighteen-days-of-barbareek/'),\n",
       " ('They Shall Salt the Earth with Seeds of Glass by Alaya Dawn Johnson',\n",
       "  'https://uncannymagazine.com/article/they-shall-salt-the-earth-with-seeds-of-glass/'),\n",
       " ('The Book of the Kraken by Carrie Vaughn',\n",
       "  'https://uncannymagazine.com/article/the-book-of-the-kraken/'),\n",
       " ('Where Oaken Hearts Do Gather by Sarah Pinsker',\n",
       "  'https://uncannymagazine.com/article/where-oaken-hearts-do-gather/'),\n",
       " ('Unseelie Brothers, Ltd. by Fran Wilde',\n",
       "  'https://uncannymagazine.com/article/unseelie-brothers-ltd/'),\n",
       " ('Thirteen of the Secrets in My Purse by Rachel Swirsky',\n",
       "  'https://uncannymagazine.com/article/thirteen-of-the-secrets-in-my-purse/'),\n",
       " ('Proof by Induction by José Pablo Iriarte',\n",
       "  'https://uncannymagazine.com/article/proof-by-induction/'),\n",
       " ('How the Girls Came Home by Eugenia Triantafyllou',\n",
       "  'https://uncannymagazine.com/article/how-the-girls-came-home/'),\n",
       " ('River, Clap Your Hands by Sheree Renée Thomas',\n",
       "  'https://uncannymagazine.com/article/river-clap-your-hands/'),\n",
       " ('The Hungry Ones by Emma Törzs',\n",
       "  'https://uncannymagazine.com/article/the-hungry-ones/'),\n",
       " ('Heart Shine by Shveta Thakrar',\n",
       "  'https://uncannymagazine.com/article/heart-shine/'),\n",
       " ('Diamond Cuts by Shaoni C. White',\n",
       "  'https://uncannymagazine.com/article/diamond-cuts/'),\n",
       " ('The Graveyard by Eleanor Arnason',\n",
       "  'https://uncannymagazine.com/article/the-graveyard/'),\n",
       " ('The Wishing Pool by Tananarive Due',\n",
       "  'https://uncannymagazine.com/article/the-wishing-pool/'),\n",
       " ('Immortal Coil by Ellen Kushner',\n",
       "  'https://uncannymagazine.com/article/immortal-coil/'),\n",
       " ('From the Archives of the Museum of Eerie Skins: An Account by C. S. E. Cooney',\n",
       "  'https://uncannymagazine.com/article/from-the-archives-of-the-museum-of-eerie-skins-an-account/'),\n",
       " ('The Chameleon’s Gloves by Yoon Ha Lee',\n",
       "  'https://uncannymagazine.com/article/the-chameleons-gloves/'),\n",
       " ('Presque vue by Tochi Onyebuchi',\n",
       "  'https://uncannymagazine.com/article/presque-vue/'),\n",
       " ('Mulberry and Owl by Aliette de Bodard',\n",
       "  'https://uncannymagazine.com/article/mulberry-and-owl/'),\n",
       " ('Onward by Bonnie Jo Stufflebeam',\n",
       "  'https://uncannymagazine.com/article/onward/'),\n",
       " ('On a Branch Floating Down the River, a Wren Is Singing by Betsy Aoki',\n",
       "  'https://uncannymagazine.com/article/on-a-branch-floating-down-the-river-a-wren-is-singing/'),\n",
       " ('Down in the Aspen Hollow by Kristiana Willsey',\n",
       "  'https://uncannymagazine.com/article/down-in-the-aspen-hollow/'),\n",
       " ('Six Fictions About Unicorns by Rachael K. Jones',\n",
       "  'https://uncannymagazine.com/article/six-fictions-about-unicorns/'),\n",
       " ('If the Martians Have Magic by P. Djèlí Clark',\n",
       "  'https://uncannymagazine.com/article/if-the-martians-have-magic/'),\n",
       " ('The Giants of the Violet Sea by Eugenia Triantafyllou',\n",
       "  'https://uncannymagazine.com/article/the-giants-of-the-violet-sea/'),\n",
       " ('For Want of Milk by Grace P. Fong',\n",
       "  'https://uncannymagazine.com/article/for-want-of-milk/'),\n",
       " ('The Stop After the Last Station by A. T. Greenblatt',\n",
       "  'https://uncannymagazine.com/article/the-stop-after-the-last-station/'),\n",
       " ('That Story Isn’t the Story by John Wiswell',\n",
       "  'https://uncannymagazine.com/article/that-story-isnt-the-story/'),\n",
       " ('Ina’s Spark by Mary Robinette Kowal',\n",
       "  'https://uncannymagazine.com/article/inas-spark/'),\n",
       " ('The North Pole Workshops by Mari Ness',\n",
       "  'https://uncannymagazine.com/article/the-north-pole-workshops/'),\n",
       " ('White Rose, Red Rose by Rachel Swirsky',\n",
       "  'https://uncannymagazine.com/article/white-rose-red-rose/'),\n",
       " ('For All Those Who Sheltered Here by Del Sandeen',\n",
       "  'https://uncannymagazine.com/article/for-all-those-who-sheltered-here/')]"
      ]
     },
     "execution_count": 4,
     "metadata": {},
     "output_type": "execute_result"
    }
   ],
   "source": [
    "stories = []\n",
    "for soup in soups:\n",
    "    for p in soup.find('div', attrs={'class':'more_fiction'}).findAll('p'):\n",
    "        stories.append((p.text, p.find('a').get('href')))\n",
    "stories"
   ]
  },
  {
   "cell_type": "code",
   "execution_count": 5,
   "id": "495940f6-152d-426b-9318-582cae0e2c0e",
   "metadata": {},
   "outputs": [],
   "source": [
    "with open('uncanny-2021-shorts.md', 'w') as f:\n",
    "    for title, href in sorted(list(stories), key=lambda el: el[0]):\n",
    "        f.write(f\"{title}: {href}\\n\")"
   ]
  }
 ],
 "metadata": {
  "kernelspec": {
   "display_name": "Python 3",
   "language": "python",
   "name": "python3"
  },
  "language_info": {
   "codemirror_mode": {
    "name": "ipython",
    "version": 3
   },
   "file_extension": ".py",
   "mimetype": "text/x-python",
   "name": "python",
   "nbconvert_exporter": "python",
   "pygments_lexer": "ipython3",
   "version": "3.8.8"
  }
 },
 "nbformat": 4,
 "nbformat_minor": 5
}
