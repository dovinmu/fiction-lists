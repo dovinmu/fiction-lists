{
 "cells": [
  {
   "cell_type": "code",
   "execution_count": 1,
   "id": "13743679-0c8d-4514-af5b-b3372e0acf43",
   "metadata": {},
   "outputs": [],
   "source": [
    "from bs4 import BeautifulSoup\n",
    "import re\n",
    "import requests\n",
    "import time"
   ]
  },
  {
   "cell_type": "code",
   "execution_count": 2,
   "id": "148fef3f-36a6-43f0-8bc5-87bf0d6694a5",
   "metadata": {},
   "outputs": [],
   "source": [
    "with open('Original Fiction | Tor.com 2021 pg1.html') as f:\n",
    "    soup1 = BeautifulSoup(f.read())\n",
    "with open('Original Fiction | Tor.com 2021 pg2.html') as f:\n",
    "    soup2 = BeautifulSoup(f.read())\n",
    "with open('Original Fiction | Tor.com 2021 pg3.html') as f:\n",
    "    soup3 = BeautifulSoup(f.read())"
   ]
  },
  {
   "cell_type": "code",
   "execution_count": 3,
   "id": "26f6745a-8e87-4d86-a0f5-654f075689eb",
   "metadata": {},
   "outputs": [
    {
     "data": {
      "text/plain": [
       "{('#Selfcare by Annalee Newitz',\n",
       "  'https://www.tor.com/2021/01/19/selfcare-annalee-newitz/'),\n",
       " ('#Spring Love, #Pichal Pairi by Usman T. Malik',\n",
       "  'https://www.tor.com/2021/03/03/spring-love-pichal-pairi-usman-t-malik/'),\n",
       " ('A Better Way of Saying by Sarah Pinsker',\n",
       "  'https://www.tor.com/2021/11/10/a-better-way-of-saying/'),\n",
       " ('Across the Dark Water by Richard Kadrey',\n",
       "  'https://www.tor.com/2021/02/03/across-the-dark-water-richard-kadrey/'),\n",
       " ('An Easy Job by Carrie Vaughn',\n",
       "  'https://www.tor.com/2021/06/09/an-easy-job-carrie-vaughn/'),\n",
       " ('Annie Without Crow by Michael Swanwick',\n",
       "  'https://www.tor.com/2021/04/07/annie-without-crow-michael-swanwick/'),\n",
       " ('Aptitude by Cooper Shrivastava',\n",
       "  'https://www.tor.com/2021/08/04/aptitude-cooper-shrivastava/'),\n",
       " ('Baby Teeth by Daniel Polansky',\n",
       "  'https://www.tor.com/2021/10/27/baby-teeth-daniel-polansky/'),\n",
       " ('Black Leg by Glen Hirshberg',\n",
       "  'https://www.tor.com/2021/07/14/black-leg-glen-hirshberg/'),\n",
       " ('Blood in the Thread by Cheri Kamei',\n",
       "  'https://www.tor.com/2021/05/12/blood-in-the-thread-cheri-kamei/'),\n",
       " ('Judge Dee and the Poisoner of Montmartre by Lavie Tidhar',\n",
       "  'https://www.tor.com/2021/09/15/judge-dee-and-the-poisoner-of-montmartre-lavie-tidhar/'),\n",
       " ('Judge Dee and the Three Deaths of Count Werdenfels by Lavie Tidhar',\n",
       "  'https://www.tor.com/2021/02/10/judge-dee-and-the-three-deaths-of-count-werdenfels-lavie-tidhar/'),\n",
       " ('Let All the Children Boogie by Sam J. Miller',\n",
       "  'https://www.tor.com/2021/01/06/let-all-the-children-boogie-sam-j-miller/'),\n",
       " ('L’Esprit de L’Escalier by Catherynne M. Valente',\n",
       "  'https://www.tor.com/2021/08/25/lesprit-de-lescalier-catherynne-m-valente/'),\n",
       " (\"Masquerade Season by 'Pemi Aguda\",\n",
       "  'https://www.tor.com/2021/03/24/masquerade-season-pemi-aguda/'),\n",
       " ('Now We Paint Worlds by Matthew Kressel',\n",
       "  'https://www.tor.com/2021/07/07/now-we-paint-worlds-matthew-kressel/'),\n",
       " ('Questions Asked in the Belly of the World by A. T. Greenblatt',\n",
       "  'https://www.tor.com/2021/09/29/questions-asked-in-the-belly-of-the-world-a-t-greenblatt/'),\n",
       " ('Ripple Effects by Laura J. Mixon',\n",
       "  'https://www.tor.com/2021/05/19/ripple-effects-laura-j-mixon/'),\n",
       " ('Sand by Jasmin Kirkbride',\n",
       "  'https://www.tor.com/2021/10/13/sand-jasmin-kirkbride/'),\n",
       " ('Shards by Ian Rogers', 'https://www.tor.com/2021/01/27/shards-ian-rogers/'),\n",
       " ('Skin Deep by Alan Brennert',\n",
       "  'https://www.tor.com/2021/07/21/skin-deep-alan-brennert/'),\n",
       " ('Small Monsters by E. Lily Yu',\n",
       "  'https://www.tor.com/2021/10/20/small-monsters-e-lily-yu/'),\n",
       " ('The Far Side of the Universe by noc',\n",
       "  'https://www.tor.com/2021/06/16/the-far-side-of-the-universe-noc/'),\n",
       " ('The Future Library by Peng Shepherd',\n",
       "  'https://www.tor.com/2021/08/18/the-future-library-peng-shepherd/'),\n",
       " ('The Lay of Lilyfinger by G. V. Anderson',\n",
       "  'https://www.tor.com/2021/05/05/the-lay-of-lilyfinger-g-v-anderson/'),\n",
       " ('The Red Mother by Elizabeth Bear',\n",
       "  'https://www.tor.com/2021/06/23/the-red-mother-elizabeth-bear/'),\n",
       " ('The Station of the Twelfth by Chaz Brenchley',\n",
       "  'https://www.tor.com/2021/09/08/the-station-of-the-twelfth-chaz-brenchley/'),\n",
       " ('The Tinder Box by Kate Elliott',\n",
       "  'https://www.tor.com/2021/12/01/the-tinder-box-kate-elliott/'),\n",
       " ('The Tyger by Tegan Moore',\n",
       "  'https://www.tor.com/2021/02/24/the-tyger-tegan-moore/'),\n",
       " ('The Wonderful Stag, or The Courtship of Red Elsie by Kathleen Jennings',\n",
       "  'https://www.tor.com/2021/09/01/the-wonderful-stag-or-the-courtship-of-red-elsie-kathleen-jennings/')}"
      ]
     },
     "execution_count": 3,
     "metadata": {},
     "output_type": "execute_result"
    }
   ],
   "source": [
    "stories = set()\n",
    "for article in soup1.findAll('article') + soup2.findAll('article') + soup3.findAll('article'):\n",
    "    # if table doesn't contain a p tag with the words fiction, keep going\n",
    "    title = article.find('h2')\n",
    "    date = article.find('div', attrs={'class':'entry-date'}).text\n",
    "    author = article.find('a', attrs={'class':'entry-author'}).text\n",
    "    href = title.find('a').get('href')\n",
    "    if '2021' in date:\n",
    "#         print(title.text,date)\n",
    "        stories.add((f\"{title.text.strip()} by {author}\", href))\n",
    "stories"
   ]
  },
  {
   "cell_type": "code",
   "execution_count": 4,
   "id": "fa870353-024c-476f-bb87-e50ba4b29e04",
   "metadata": {},
   "outputs": [],
   "source": [
    "with open('tor.com-2021-shorts.md', 'w') as f:\n",
    "    for title, href in sorted(list(stories), key=lambda el: el[0]):\n",
    "        f.write(f\"{title}: {href}\\n\")"
   ]
  }
 ],
 "metadata": {
  "kernelspec": {
   "display_name": "Python 3",
   "language": "python",
   "name": "python3"
  },
  "language_info": {
   "codemirror_mode": {
    "name": "ipython",
    "version": 3
   },
   "file_extension": ".py",
   "mimetype": "text/x-python",
   "name": "python",
   "nbconvert_exporter": "python",
   "pygments_lexer": "ipython3",
   "version": "3.8.8"
  }
 },
 "nbformat": 4,
 "nbformat_minor": 5
}
