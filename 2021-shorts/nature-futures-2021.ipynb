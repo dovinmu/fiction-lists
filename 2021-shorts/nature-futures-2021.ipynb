{
 "cells": [
  {
   "cell_type": "code",
   "execution_count": 1,
   "id": "cc227d9a-1791-4b6f-912d-43e43f2e1c25",
   "metadata": {},
   "outputs": [],
   "source": [
    "from bs4 import BeautifulSoup\n",
    "import re\n",
    "import requests\n",
    "import time"
   ]
  },
  {
   "cell_type": "code",
   "execution_count": 2,
   "id": "1a87cd5f-85bb-4334-9243-480c11a3d908",
   "metadata": {},
   "outputs": [],
   "source": [
    "url = 'https://www.nature.com/nature/articles?type=futures&year=2021'"
   ]
  },
  {
   "cell_type": "code",
   "execution_count": 3,
   "id": "1cfdab68-2f68-4b67-938f-35ebe47a0036",
   "metadata": {},
   "outputs": [],
   "source": [
    "soup = BeautifulSoup(requests.get(url).text)"
   ]
  },
  {
   "cell_type": "code",
   "execution_count": 4,
   "id": "f2256bd0-4603-4d34-ad73-10e1eb894534",
   "metadata": {},
   "outputs": [
    {
     "data": {
      "text/plain": [
       "[('The Christmas Tree Barn',\n",
       "  'Mary E. Lowd',\n",
       "  'https://nature.com/articles/d41586-021-03743-5'),\n",
       " ('A new partner',\n",
       "  'Timothy Mudie',\n",
       "  'https://nature.com/articles/d41586-021-03742-6'),\n",
       " ('Bringing back the stars',\n",
       "  'Redfern Jon Barrett',\n",
       "  'https://nature.com/articles/d41586-021-03727-5'),\n",
       " ('The wasted chewing gum bacteriome: an oral history',\n",
       "  'Lavie Tidhar',\n",
       "  'https://nature.com/articles/d41586-021-03660-7'),\n",
       " ('The last library',\n",
       "  'Brian Trent',\n",
       "  'https://nature.com/articles/d41586-021-03637-6'),\n",
       " ('Mnemovirus',\n",
       "  'Alexander B. Joy',\n",
       "  'https://nature.com/articles/d41586-021-03577-1'),\n",
       " ('EverLife',\n",
       "  'Michael García Juelle',\n",
       "  'https://nature.com/articles/d41586-021-03556-6'),\n",
       " ('Venetian blinds',\n",
       "  'Gretchen Tessmer',\n",
       "  'https://nature.com/articles/d41586-021-03525-z'),\n",
       " ('Star Corps Crew Manual Section 15-A37: On Mental Dislocation',\n",
       "  'Marissa Lingen',\n",
       "  'https://nature.com/articles/d41586-021-03398-2'),\n",
       " ('Welcome home',\n",
       "  'Beth Cato',\n",
       "  'https://nature.com/articles/d41586-021-03396-4'),\n",
       " ('Spider of the cross',\n",
       "  'Deborah Walker',\n",
       "  'https://nature.com/articles/d41586-021-03394-6'),\n",
       " ('Goldbergian physics',\n",
       "  'Matt Tighe',\n",
       "  'https://nature.com/articles/d41586-021-02967-9'),\n",
       " ('My first pet',\n",
       "  'Robert Blasiak',\n",
       "  'https://nature.com/articles/d41586-021-02965-x'),\n",
       " ('Eight reasons you are alone',\n",
       "  'Benjamin C. Kinney',\n",
       "  'https://nature.com/articles/d41586-021-02963-z'),\n",
       " ('Beware of rainbows',\n",
       "  'S. R. Algernon',\n",
       "  'https://nature.com/articles/d41586-021-02961-1'),\n",
       " ('The audit',\n",
       "  'Matt Thompson',\n",
       "  'https://nature.com/articles/d41586-021-02928-2'),\n",
       " ('Oceans like neurons',\n",
       "  'Jeremy Szal',\n",
       "  'https://nature.com/articles/d41586-021-02888-7'),\n",
       " ('Byzantium',\n",
       "  'Robert Dawson',\n",
       "  'https://nature.com/articles/d41586-021-02769-z'),\n",
       " ('A thousand words, unspoken',\n",
       "  'Wendy Nikel',\n",
       "  'https://nature.com/articles/d41586-021-02767-1'),\n",
       " ('Path correction',\n",
       "  'Sylvia Wenmackers',\n",
       "  'https://nature.com/articles/d41586-021-02765-3')]"
      ]
     },
     "execution_count": 4,
     "metadata": {},
     "output_type": "execute_result"
    }
   ],
   "source": [
    "stories = []\n",
    "for article in soup.findAll('article'):\n",
    "    title = article.find('h3')\n",
    "    author = article.find('span').text\n",
    "    href = title.find('a').get('href')\n",
    "    stories.append((title.text.strip(), author, 'https://nature.com'+href))\n",
    "stories"
   ]
  },
  {
   "cell_type": "code",
   "execution_count": 5,
   "id": "53a64605-87d3-461d-869c-86ab6390f84b",
   "metadata": {},
   "outputs": [],
   "source": [
    "from output import write_list\n",
    "write_list('nature-futures-2021-shorts.md', stories)"
   ]
  }
 ],
 "metadata": {
  "kernelspec": {
   "display_name": "Python 3",
   "language": "python",
   "name": "python3"
  },
  "language_info": {
   "codemirror_mode": {
    "name": "ipython",
    "version": 3
   },
   "file_extension": ".py",
   "mimetype": "text/x-python",
   "name": "python",
   "nbconvert_exporter": "python",
   "pygments_lexer": "ipython3",
   "version": "3.8.8"
  }
 },
 "nbformat": 4,
 "nbformat_minor": 5
}
